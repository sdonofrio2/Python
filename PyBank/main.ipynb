{
 "cells": [
  {
   "cell_type": "code",
   "execution_count": 146,
   "id": "11d2fcc2-dabd-47e5-8402-97f6e58e1edf",
   "metadata": {},
   "outputs": [],
   "source": [
    "import pandas as pd\n",
    "import numpy as np\n",
    "from pathlib import Path\n",
    "file_path = Path ('PyBank/budget_data.csv')\n",
    "f = open(\"file.txt\", \"w\")\n",
    "print (\"Financial Analysis\", file=f)"
   ]
  },
  {
   "cell_type": "code",
   "execution_count": 147,
   "id": "2da82893-6180-49d2-a41d-32c2455e4cce",
   "metadata": {},
   "outputs": [
    {
     "data": {
      "text/html": [
       "<div>\n",
       "<style scoped>\n",
       "    .dataframe tbody tr th:only-of-type {\n",
       "        vertical-align: middle;\n",
       "    }\n",
       "\n",
       "    .dataframe tbody tr th {\n",
       "        vertical-align: top;\n",
       "    }\n",
       "\n",
       "    .dataframe thead th {\n",
       "        text-align: right;\n",
       "    }\n",
       "</style>\n",
       "<table border=\"1\" class=\"dataframe\">\n",
       "  <thead>\n",
       "    <tr style=\"text-align: right;\">\n",
       "      <th></th>\n",
       "      <th>Date</th>\n",
       "      <th>Profit/Losses</th>\n",
       "    </tr>\n",
       "  </thead>\n",
       "  <tbody>\n",
       "    <tr>\n",
       "      <th>0</th>\n",
       "      <td>Jan-2010</td>\n",
       "      <td>867884</td>\n",
       "    </tr>\n",
       "    <tr>\n",
       "      <th>1</th>\n",
       "      <td>Feb-2010</td>\n",
       "      <td>984655</td>\n",
       "    </tr>\n",
       "    <tr>\n",
       "      <th>2</th>\n",
       "      <td>Mar-2010</td>\n",
       "      <td>322013</td>\n",
       "    </tr>\n",
       "    <tr>\n",
       "      <th>3</th>\n",
       "      <td>Apr-2010</td>\n",
       "      <td>-69417</td>\n",
       "    </tr>\n",
       "    <tr>\n",
       "      <th>4</th>\n",
       "      <td>May-2010</td>\n",
       "      <td>310503</td>\n",
       "    </tr>\n",
       "  </tbody>\n",
       "</table>\n",
       "</div>"
      ],
      "text/plain": [
       "       Date  Profit/Losses\n",
       "0  Jan-2010         867884\n",
       "1  Feb-2010         984655\n",
       "2  Mar-2010         322013\n",
       "3  Apr-2010         -69417\n",
       "4  May-2010         310503"
      ]
     },
     "execution_count": 147,
     "metadata": {},
     "output_type": "execute_result"
    }
   ],
   "source": [
    "budget_csv = pd.read_csv(file_path)\n",
    "df = pd.DataFrame(budget_csv)\n",
    "budget_csv.head()"
   ]
  },
  {
   "cell_type": "code",
   "execution_count": 148,
   "id": "3f72a24d-a35e-46fa-be21-da0d109f3c10",
   "metadata": {},
   "outputs": [],
   "source": [
    "print (f'Total Months: {budget_csv[\"Date\"].count()}', file =f)"
   ]
  },
  {
   "cell_type": "code",
   "execution_count": 149,
   "id": "365d68aa-ad52-48ee-a2e0-3a41665723f7",
   "metadata": {},
   "outputs": [],
   "source": [
    "total = df['Profit/Losses'].sum()\n",
    "print(f'Total:{total}', file=f)"
   ]
  },
  {
   "cell_type": "code",
   "execution_count": 150,
   "id": "bd9a36dd-382e-4968-8f81-e8fed96c4865",
   "metadata": {},
   "outputs": [
    {
     "data": {
      "text/html": [
       "<div>\n",
       "<style scoped>\n",
       "    .dataframe tbody tr th:only-of-type {\n",
       "        vertical-align: middle;\n",
       "    }\n",
       "\n",
       "    .dataframe tbody tr th {\n",
       "        vertical-align: top;\n",
       "    }\n",
       "\n",
       "    .dataframe thead th {\n",
       "        text-align: right;\n",
       "    }\n",
       "</style>\n",
       "<table border=\"1\" class=\"dataframe\">\n",
       "  <thead>\n",
       "    <tr style=\"text-align: right;\">\n",
       "      <th></th>\n",
       "      <th>Date</th>\n",
       "      <th>Profit/Losses</th>\n",
       "      <th>Prior_PL</th>\n",
       "    </tr>\n",
       "  </thead>\n",
       "  <tbody>\n",
       "    <tr>\n",
       "      <th>0</th>\n",
       "      <td>Jan-2010</td>\n",
       "      <td>867884</td>\n",
       "      <td>NaN</td>\n",
       "    </tr>\n",
       "    <tr>\n",
       "      <th>1</th>\n",
       "      <td>Feb-2010</td>\n",
       "      <td>984655</td>\n",
       "      <td>867884.0</td>\n",
       "    </tr>\n",
       "    <tr>\n",
       "      <th>2</th>\n",
       "      <td>Mar-2010</td>\n",
       "      <td>322013</td>\n",
       "      <td>984655.0</td>\n",
       "    </tr>\n",
       "    <tr>\n",
       "      <th>3</th>\n",
       "      <td>Apr-2010</td>\n",
       "      <td>-69417</td>\n",
       "      <td>322013.0</td>\n",
       "    </tr>\n",
       "    <tr>\n",
       "      <th>4</th>\n",
       "      <td>May-2010</td>\n",
       "      <td>310503</td>\n",
       "      <td>-69417.0</td>\n",
       "    </tr>\n",
       "  </tbody>\n",
       "</table>\n",
       "</div>"
      ],
      "text/plain": [
       "       Date  Profit/Losses  Prior_PL\n",
       "0  Jan-2010         867884       NaN\n",
       "1  Feb-2010         984655  867884.0\n",
       "2  Mar-2010         322013  984655.0\n",
       "3  Apr-2010         -69417  322013.0\n",
       "4  May-2010         310503  -69417.0"
      ]
     },
     "execution_count": 150,
     "metadata": {},
     "output_type": "execute_result"
    }
   ],
   "source": [
    "df['Prior_PL'] = df['Profit/Losses'].shift(1)\n",
    "budget_csv.head()"
   ]
  },
  {
   "cell_type": "code",
   "execution_count": 151,
   "id": "e9ea7fa4-58d8-4f62-940c-c7bdfc33a6bd",
   "metadata": {},
   "outputs": [
    {
     "data": {
      "text/plain": [
       "<bound method NDFrame.head of         Date  Profit/Losses  Prior_PL  Difference\n",
       "0   Jan-2010         867884       NaN         NaN\n",
       "1   Feb-2010         984655  867884.0    116771.0\n",
       "2   Mar-2010         322013  984655.0   -662642.0\n",
       "3   Apr-2010         -69417  322013.0   -391430.0\n",
       "4   May-2010         310503  -69417.0    379920.0\n",
       "..       ...            ...       ...         ...\n",
       "81  Oct-2016         102685  768450.0   -665765.0\n",
       "82  Nov-2016         795914  102685.0    693229.0\n",
       "83  Dec-2016          60988  795914.0   -734926.0\n",
       "84  Jan-2017         138230   60988.0     77242.0\n",
       "85  Feb-2017         671099  138230.0    532869.0\n",
       "\n",
       "[86 rows x 4 columns]>"
      ]
     },
     "execution_count": 151,
     "metadata": {},
     "output_type": "execute_result"
    }
   ],
   "source": [
    "df['Difference'] = df['Profit/Losses'] - df['Prior_PL']\n",
    "budget_csv.head"
   ]
  },
  {
   "cell_type": "code",
   "execution_count": 152,
   "id": "11931077-7788-413d-9fb3-181dddfe2ced",
   "metadata": {},
   "outputs": [],
   "source": [
    "average = df['Difference'].mean()\n",
    "print (f'Average:{average}', file=f)"
   ]
  },
  {
   "cell_type": "code",
   "execution_count": 153,
   "id": "f1eb612f-33e6-435c-8ce3-d3cf07429f64",
   "metadata": {},
   "outputs": [],
   "source": [
    "maximum = df['Difference'].max()\n",
    "print (f'Maximum: {maximum}', file=f)"
   ]
  },
  {
   "cell_type": "code",
   "execution_count": 154,
   "id": "c0de5362-3dbd-48b2-96d5-40b197efffe5",
   "metadata": {},
   "outputs": [],
   "source": [
    "minimum = df['Difference'].min()\n",
    "print (f'Minimum: {minimum}', file=f)"
   ]
  },
  {
   "cell_type": "code",
   "execution_count": null,
   "id": "f63cd43b-1a2b-42a2-9c63-db5bae0bb078",
   "metadata": {},
   "outputs": [],
   "source": []
  },
  {
   "cell_type": "code",
   "execution_count": null,
   "id": "a8b3dcf3-0b25-415e-aa1d-d9ac11f120f2",
   "metadata": {},
   "outputs": [],
   "source": []
  },
  {
   "cell_type": "code",
   "execution_count": null,
   "id": "53b0b894-86fd-48ce-8df2-f4b157fe33e2",
   "metadata": {},
   "outputs": [],
   "source": []
  },
  {
   "cell_type": "code",
   "execution_count": null,
   "id": "84afc2c1-cbb2-4b71-918f-9bc1f77206c6",
   "metadata": {},
   "outputs": [],
   "source": []
  },
  {
   "cell_type": "code",
   "execution_count": null,
   "id": "14a5ed4b-2abb-46e2-b47d-1da43dec638a",
   "metadata": {},
   "outputs": [],
   "source": []
  },
  {
   "cell_type": "code",
   "execution_count": null,
   "id": "e34b5606-5e24-4acf-8df1-c9a5764d873b",
   "metadata": {},
   "outputs": [],
   "source": []
  },
  {
   "cell_type": "code",
   "execution_count": null,
   "id": "8f18dc7b-0aa8-4f6b-bb96-369cca985de0",
   "metadata": {},
   "outputs": [],
   "source": []
  },
  {
   "cell_type": "code",
   "execution_count": null,
   "id": "3d97d7d0-c499-4d34-a699-9673deaa3179",
   "metadata": {},
   "outputs": [],
   "source": []
  }
 ],
 "metadata": {
  "kernelspec": {
   "display_name": "Python 3 (ipykernel)",
   "language": "python",
   "name": "python3"
  },
  "language_info": {
   "codemirror_mode": {
    "name": "ipython",
    "version": 3
   },
   "file_extension": ".py",
   "mimetype": "text/x-python",
   "name": "python",
   "nbconvert_exporter": "python",
   "pygments_lexer": "ipython3",
   "version": "3.8.8"
  }
 },
 "nbformat": 4,
 "nbformat_minor": 5
}
